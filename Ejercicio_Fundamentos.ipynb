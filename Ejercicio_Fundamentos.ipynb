{
 "cells": [
  {
   "cell_type": "code",
   "execution_count": 1,
   "id": "2b364416",
   "metadata": {},
   "outputs": [
    {
     "name": "stdout",
     "output_type": "stream",
     "text": [
      "Ingresa un numero entero, un numero flotante y una cadena de caracteres(Seguida de una coma)2,3.5,hola\n",
      "el primer datos es: 2 y de tipo <class 'int'>\n",
      "el segundo datos es: 3.5 y de tipo <class 'float'>\n",
      "el tercer datos es: hola y de tipo <class 'str'>\n"
     ]
    }
   ],
   "source": [
    "\"\"\"Solicitar al usuario un entero, un floar y una cadena\"\"\"\n",
    "\n",
    "entero, flotante, cadena = input(\"Ingresa un numero entero, un numero flotante y una cadena de caracteres(Seguida de una coma)\").split(\",\")\n",
    "\n",
    "print(f\"el primer datos es: {entero} y de tipo {type(eval(entero))}\")\n",
    "print(f\"el segundo datos es: {flotante} y de tipo {type(eval(flotante))}\")\n",
    "print(f\"el tercer datos es: {cadena} y de tipo {type(cadena)}\")"
   ]
  },
  {
   "cell_type": "code",
   "execution_count": null,
   "id": "254dbc46",
   "metadata": {},
   "outputs": [],
   "source": []
  }
 ],
 "metadata": {
  "kernelspec": {
   "display_name": "Python 3 (ipykernel)",
   "language": "python",
   "name": "python3"
  },
  "language_info": {
   "codemirror_mode": {
    "name": "ipython",
    "version": 3
   },
   "file_extension": ".py",
   "mimetype": "text/x-python",
   "name": "python",
   "nbconvert_exporter": "python",
   "pygments_lexer": "ipython3",
   "version": "3.10.9"
  }
 },
 "nbformat": 4,
 "nbformat_minor": 5
}
