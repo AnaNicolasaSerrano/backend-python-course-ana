"""  Esta es una calculadora   """
print("""Calculadora:
      Selecciona la operación que deceas realizar:
      1 - Suma
      2 - Resta
      3 - Multiplicación
      4 - División
      Seguido del tipo de numeros que utilizaras:
      1 - Decimal
      2 - Binario
      3 - Octal
      4 - Hexadecimal 
      Por ultimo los numeros
      'ingresa los numeros separados por una coma, ejemplo:
      Suma de los numeros octales 235 y 256,
      1,3,235,256' """)

operacion, tipo_numero, numero1, numero2 = input().split(",")
OP= ""
if tipo_numero == "2":
    numero1 = int(numero1, 2)
    numero2 = int(numero2, 2)
elif tipo_numero == "3":
    numero1 = int(numero1, 8)
    numero2 = int(numero2, 8)
elif tipo_numero == "4":
    numero1 = int(numero1, 16)
    numero2 = int(numero2, 16)

if operacion == "1":
    resultado = numero1 + numero2
    OP = "suma"
elif operacion == "2":
    resultado = numero1 - numero2
    OP = "resta"
elif operacion == "3":
    resultado = numero1 * numero2
    OP = "multiplicación"
elif operacion == "4":
    resultado = numero1 / numero2
    OP = "divición"

print(f"la {OP} de los numeros {numero1} y {numero2} es {resultado}")
